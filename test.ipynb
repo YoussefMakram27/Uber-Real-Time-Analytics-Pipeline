{
 "cells": [
  {
   "cell_type": "code",
   "execution_count": 1,
   "id": "694967f3",
   "metadata": {},
   "outputs": [],
   "source": [
    "import pandas as pd"
   ]
  },
  {
   "cell_type": "code",
   "execution_count": 3,
   "id": "d0a34551",
   "metadata": {},
   "outputs": [],
   "source": [
    "df = pd.read_parquet(\"D:/Just Data/Uber Real-Time Analytics Pipeline/cleaned_uber_trips\")"
   ]
  },
  {
   "cell_type": "code",
   "execution_count": 9,
   "id": "9a4348dd",
   "metadata": {},
   "outputs": [
    {
     "data": {
      "text/plain": [
       "trip_id                  1411\n",
       "VendorID                 1411\n",
       "passenger_count             0\n",
       "trip_distance            1411\n",
       "RatecodeID                  0\n",
       "store_and_fwd_flag       1411\n",
       "PULocationID             1411\n",
       "DOLocationID             1411\n",
       "payment_type             1411\n",
       "fare_amount              1411\n",
       "extra                    1411\n",
       "mta_tax                  1411\n",
       "tip_amount               1411\n",
       "tolls_amount             1411\n",
       "improvement_surcharge    1411\n",
       "congestion_surcharge     1411\n",
       "Airport_fee              1411\n",
       "cbd_congestion_fee       1411\n",
       "pickup_ts                1411\n",
       "dropoff_ts               1411\n",
       "trip_duration_minutes    1411\n",
       "total_amount             1411\n",
       "avg_speed_mph            1411\n",
       "is_high_quality          1411\n",
       "processed_at             1411\n",
       "dtype: int64"
      ]
     },
     "execution_count": 9,
     "metadata": {},
     "output_type": "execute_result"
    }
   ],
   "source": [
    "df.count()"
   ]
  },
  {
   "cell_type": "code",
   "execution_count": null,
   "id": "c95a4a6c",
   "metadata": {},
   "outputs": [],
   "source": []
  }
 ],
 "metadata": {
  "kernelspec": {
   "display_name": "Global_env (3.13.2)",
   "language": "python",
   "name": "python3"
  },
  "language_info": {
   "codemirror_mode": {
    "name": "ipython",
    "version": 3
   },
   "file_extension": ".py",
   "mimetype": "text/x-python",
   "name": "python",
   "nbconvert_exporter": "python",
   "pygments_lexer": "ipython3",
   "version": "3.13.2"
  }
 },
 "nbformat": 4,
 "nbformat_minor": 5
}
