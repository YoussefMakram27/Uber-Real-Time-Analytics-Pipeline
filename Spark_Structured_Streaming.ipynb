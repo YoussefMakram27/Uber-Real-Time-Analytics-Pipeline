{
 "cells": [
  {
   "cell_type": "code",
   "execution_count": 1,
   "id": "4faaf708",
   "metadata": {},
   "outputs": [],
   "source": [
    "from pyspark.sql import SparkSession\n",
    "from pyspark.sql.functions import *\n",
    "from pyspark.sql.types import StructType, StructField, StringType, IntegerType, DoubleType "
   ]
  },
  {
   "cell_type": "code",
   "execution_count": 2,
   "id": "bf2fdbd8",
   "metadata": {},
   "outputs": [],
   "source": [
    "spark = SparkSession.builder \\\n",
    "    .appName(\"UberTrips\") \\\n",
    "    .config(\"spark.jars.packages\", \"org.apache.spark:spark-sql-kafka-0-10_2.12:3.5.1\") \\\n",
    "    .config(\"spark.sql.warehouse.dir\", \"C:\\\\tmp\\\\spark-warehouse\") \\\n",
    "    .config(\"spark.sql.streaming.forceDeleteTempCheckpointLocation\", \"true\") \\\n",
    "    .getOrCreate()\n",
    "\n",
    "spark.sparkContext.setLogLevel(\"WARN\")"
   ]
  },
  {
   "cell_type": "code",
   "execution_count": 3,
   "id": "edeb5c33",
   "metadata": {},
   "outputs": [],
   "source": [
    "trip_schema = StructType([\n",
    "    StructField('VendorID', IntegerType(), True),\n",
    "    StructField('tpep_pickup_datetime', StringType(), True),\n",
    "    StructField('tpep_dropoff_datetime', StringType(), True),\n",
    "    StructField('passenger_count', IntegerType(), True),\n",
    "    StructField('trip_distance', DoubleType(), True),\n",
    "    StructField('RatecodeID', IntegerType(), True),\n",
    "    StructField('store_and_fwd_flag', StringType(), True),\n",
    "    StructField('PULocationID', IntegerType(), True),\n",
    "    StructField('DOLocationID', IntegerType(), True),\n",
    "    StructField('payment_type', IntegerType(), True),\n",
    "    StructField('fare_amount', DoubleType(), True),\n",
    "    StructField('extra', DoubleType(), True),\n",
    "    StructField('mta_tax', DoubleType(), True),\n",
    "    StructField('tip_amount', DoubleType(), True),\n",
    "    StructField('tolls_amount', DoubleType(), True),\n",
    "    StructField('improvement_surcharge', DoubleType(), True),\n",
    "    StructField('total_amount', DoubleType(), True),\n",
    "    StructField('congestion_surcharge', DoubleType(), True),\n",
    "    StructField('Airport_fee', DoubleType(), True),\n",
    "    StructField('cbd_congestion_fee', DoubleType(), True)\n",
    "])"
   ]
  },
  {
   "cell_type": "code",
   "execution_count": 4,
   "id": "120d743b",
   "metadata": {},
   "outputs": [],
   "source": [
    "kafka_bootstrap = \"localhost:9092\"\n",
    "kafka_topic = \"uber_trips\"\n",
    "\n",
    "raw_kafka_df = spark.readStream \\\n",
    "    .format(\"kafka\") \\\n",
    "    .option(\"kafka.bootstrap.servers\", kafka_bootstrap) \\\n",
    "    .option(\"subscribe\", kafka_topic) \\\n",
    "    .option(\"startingOffsets\", \"earliest\") \\\n",
    "    .load()"
   ]
  },
  {
   "cell_type": "code",
   "execution_count": 5,
   "id": "37045c04",
   "metadata": {},
   "outputs": [],
   "source": [
    "kafka_values_df = raw_kafka_df.selectExpr(\"CAST(value AS STRING)\")\n",
    "\n",
    "parsed_df = kafka_values_df.select(\n",
    "    from_json(col(\"value\"), trip_schema).alias(\"data\")\n",
    ").select(\"data.*\")\n",
    "\n",
    "# --- Transform timestamps ---\n",
    "parsed_df = parsed_df \\\n",
    "    .withColumn(\"pickup_ts\", to_timestamp(col(\"tpep_pickup_datetime\"), \"yyyy-MM-dd HH:mm:ss\")) \\\n",
    "    .withColumn(\"dropoff_ts\", to_timestamp(col(\"tpep_dropoff_datetime\"), \"yyyy-MM-dd HH:mm:ss\")) \\\n",
    "    .withColumn(\"trip_duration_seconds\", expr(\"CAST((unix_timestamp(dropoff_ts) - unix_timestamp(pickup_ts)) AS INT)\"))\n"
   ]
  },
  {
   "cell_type": "code",
   "execution_count": 6,
   "id": "b9797f38",
   "metadata": {},
   "outputs": [],
   "source": [
    "zones_path = r\"D:\\Just Data\\Uber Real-Time Analytics Pipeline\\taxi_zone_lookup.csv\"\n",
    "zones_df = spark.read.csv(zones_path, inferSchema=True, header=True)\n",
    "\n",
    "pu_zones = zones_df.select(\n",
    "    col(\"LocationID\").alias(\"PULocationID\"),\n",
    "    col(\"Borough\").alias(\"pickup_borough\"),\n",
    "    col(\"Zone\").alias(\"pickup_zone\")\n",
    ")\n",
    "\n",
    "do_zones = zones_df.select(\n",
    "    col(\"LocationID\").alias(\"DOLocationID\"),\n",
    "    col(\"Borough\").alias(\"dropoff_borough\"),\n",
    "    col(\"Zone\").alias(\"dropoff_zone\")\n",
    ")\n",
    "\n",
    "# --- Join Enrichment ---\n",
    "enriched_df = parsed_df.join(pu_zones, on=\"PULocationID\", how=\"left\") \\\n",
    "                       .join(do_zones, on=\"DOLocationID\", how=\"left\")"
   ]
  },
  {
   "cell_type": "code",
   "execution_count": 7,
   "id": "80f3f35c",
   "metadata": {},
   "outputs": [
    {
     "name": "stdout",
     "output_type": "stream",
     "text": [
      "root\n",
      " |-- DOLocationID: integer (nullable = true)\n",
      " |-- PULocationID: integer (nullable = true)\n",
      " |-- VendorID: integer (nullable = true)\n",
      " |-- tpep_pickup_datetime: string (nullable = true)\n",
      " |-- tpep_dropoff_datetime: string (nullable = true)\n",
      " |-- passenger_count: integer (nullable = true)\n",
      " |-- trip_distance: double (nullable = true)\n",
      " |-- RatecodeID: integer (nullable = true)\n",
      " |-- store_and_fwd_flag: string (nullable = true)\n",
      " |-- payment_type: integer (nullable = true)\n",
      " |-- fare_amount: double (nullable = true)\n",
      " |-- extra: double (nullable = true)\n",
      " |-- mta_tax: double (nullable = true)\n",
      " |-- tip_amount: double (nullable = true)\n",
      " |-- tolls_amount: double (nullable = true)\n",
      " |-- improvement_surcharge: double (nullable = true)\n",
      " |-- total_amount: double (nullable = true)\n",
      " |-- congestion_surcharge: double (nullable = true)\n",
      " |-- Airport_fee: double (nullable = true)\n",
      " |-- cbd_congestion_fee: double (nullable = true)\n",
      " |-- pickup_ts: timestamp (nullable = true)\n",
      " |-- dropoff_ts: timestamp (nullable = true)\n",
      " |-- trip_duration_seconds: integer (nullable = true)\n",
      " |-- pickup_borough: string (nullable = true)\n",
      " |-- pickup_zone: string (nullable = true)\n",
      " |-- dropoff_borough: string (nullable = true)\n",
      " |-- dropoff_zone: string (nullable = true)\n",
      "\n"
     ]
    }
   ],
   "source": [
    "enriched_df.printSchema()"
   ]
  },
  {
   "cell_type": "code",
   "execution_count": null,
   "id": "97ba9b77",
   "metadata": {},
   "outputs": [],
   "source": [
    "query = enriched_df.writeStream \\\n",
    "    .outputMode(\"append\") \\\n",
    "    .format(\"console\") \\\n",
    "    .option(\"truncate\", False) \\\n",
    "    .option(\"numRows\", 10) \\\n",
    "    .option(\"checkpointLocation\", \"D:\\\\spark_checkpoints\\\\uber_trips_ckpt\") \\\n",
    "    .start()\n",
    "\n",
    "query.awaitTermination()\n"
   ]
  }
 ],
 "metadata": {
  "kernelspec": {
   "display_name": "Global_env (3.13.2)",
   "language": "python",
   "name": "python3"
  },
  "language_info": {
   "codemirror_mode": {
    "name": "ipython",
    "version": 3
   },
   "file_extension": ".py",
   "mimetype": "text/x-python",
   "name": "python",
   "nbconvert_exporter": "python",
   "pygments_lexer": "ipython3",
   "version": "3.13.2"
  }
 },
 "nbformat": 4,
 "nbformat_minor": 5
}
